{
 "cells": [
  {
   "cell_type": "code",
   "execution_count": 2,
   "metadata": {},
   "outputs": [],
   "source": [
    "import numpy as np\n",
    "import src.loadDataset as loadDataset\n",
    "import src.build_tensors as build_tensors\n",
    "import src.select_feature_fields as select_feature_fields\n",
    "import src.build_features_from_tensors as build_features_from_tensors\n",
    "import os"
   ]
  },
  {
   "cell_type": "code",
   "execution_count": 3,
   "metadata": {
    "collapsed": true
   },
   "outputs": [],
   "source": [
    "##The code to load these is at the bottom.  It takes a while to load them, however.\n",
    "load_raw_tensors = True\n",
    "load_aggregated_tensors = True"
   ]
  },
  {
   "cell_type": "code",
   "execution_count": 4,
   "metadata": {
    "collapsed": true
   },
   "outputs": [],
   "source": [
    "##Data dir should be set to the directory where the clinical data flatfiles are stored.  \n",
    "##Tensor dir is where the output is saved.  This will be created if it doesn't already exist.\n",
    "##Param dir is where the parameters for running the code are stored.  You shouldn't change this.\n",
    "base_dir = 'data/raw'\n",
    "data_dir = os.path.join(base_dir, 'clinical_data_tables/CoMMpass_IA9_FlatFiles/')\n",
    "desc_dir = os.path.join(base_dir, 'clinical_data_tables/CoMMpass_IA9_FlatFile_Dictionaries/')\n",
    "output_dir = 'data/process_commpass'\n",
    "tensor_dir = os.path.join(output_dir, 'commpass_ia9_tensors/')\n",
    "param_dir = \"parameters/\""
   ]
  },
  {
   "cell_type": "markdown",
   "metadata": {},
   "source": [
    "This selects the fields in the data to use as potential features.  The field names and descriptions must not contain any of the invalid strings to be considered valid efatrues.  This mostly rules out redundant data, metadata, and dates.  The fields are then matched with a date field by trying to find one in the field subgroup, and if that fails, using a general visit date.  The baseline cutoff is used to decide after what date features are considered temporal.  The temporal frac dictates what percent of the observations must be after the baseline date for a feature to be considered temporal.  The file names dictate which files to search through.  The ones that aren't included are treatments that are processed slightly differently, and survival endpoints that should be apaprent from looking at features in other files.  Features must still make the count cutoff to be included as final features."
   ]
  },
  {
   "cell_type": "code",
   "execution_count": 5,
   "metadata": {},
   "outputs": [
    {
     "ename": "OSError",
     "evalue": "[Errno 2] No such file or directory: 'data/raw/clinical_data_tables/CoMMpass_IA9_FlatFiles_Dictionaries'",
     "traceback": [
      "\u001b[0;31m\u001b[0m",
      "\u001b[0;31mOSError\u001b[0mTraceback (most recent call last)",
      "\u001b[0;32m<ipython-input-5-3312fa53eead>\u001b[0m in \u001b[0;36m<module>\u001b[0;34m()\u001b[0m\n\u001b[1;32m      8\u001b[0m \u001b[0mtemporal_frac\u001b[0m \u001b[0;34m=\u001b[0m \u001b[0;36m0.5\u001b[0m\u001b[0;34m\u001b[0m\u001b[0m\n\u001b[1;32m      9\u001b[0m \u001b[0;34m\u001b[0m\u001b[0m\n\u001b[0;32m---> 10\u001b[0;31m \u001b[0mselect_feature_fields\u001b[0m\u001b[0;34m.\u001b[0m\u001b[0mmain\u001b[0m\u001b[0;34m(\u001b[0m\u001b[0mfile_names\u001b[0m\u001b[0;34m,\u001b[0m \u001b[0minvalid_strings\u001b[0m\u001b[0;34m,\u001b[0m \u001b[0mbaseline_cutoff\u001b[0m\u001b[0;34m,\u001b[0m \u001b[0mtemporal_frac\u001b[0m\u001b[0;34m,\u001b[0m \u001b[0mdata_dir\u001b[0m\u001b[0;34m,\u001b[0m \u001b[0mparam_dir\u001b[0m\u001b[0;34m,\u001b[0m \u001b[0mdesc_dir\u001b[0m\u001b[0;34m)\u001b[0m\u001b[0;34m\u001b[0m\u001b[0m\n\u001b[0m",
      "\u001b[0;32m/bt/home/kshi/workspace/process_commpass/src/select_feature_fields.pyc\u001b[0m in \u001b[0;36mmain\u001b[0;34m(file_names, invalid_strings, baseline_cutoff, temporal_frac, data_dir, param_dir, desc_dir)\u001b[0m\n\u001b[1;32m     18\u001b[0m \u001b[0;34m\u001b[0m\u001b[0m\n\u001b[1;32m     19\u001b[0m \u001b[0;32mdef\u001b[0m \u001b[0mmain\u001b[0m\u001b[0;34m(\u001b[0m\u001b[0mfile_names\u001b[0m\u001b[0;34m,\u001b[0m \u001b[0minvalid_strings\u001b[0m\u001b[0;34m,\u001b[0m \u001b[0mbaseline_cutoff\u001b[0m\u001b[0;34m,\u001b[0m \u001b[0mtemporal_frac\u001b[0m\u001b[0;34m,\u001b[0m \u001b[0mdata_dir\u001b[0m\u001b[0;34m,\u001b[0m \u001b[0mparam_dir\u001b[0m\u001b[0;34m,\u001b[0m \u001b[0mdesc_dir\u001b[0m\u001b[0;34m)\u001b[0m\u001b[0;34m:\u001b[0m\u001b[0;34m\u001b[0m\u001b[0m\n\u001b[0;32m---> 20\u001b[0;31m     \u001b[0mdescriptions\u001b[0m \u001b[0;34m=\u001b[0m \u001b[0mget_descriptions\u001b[0m\u001b[0;34m(\u001b[0m\u001b[0mdesc_dir\u001b[0m\u001b[0;34m)\u001b[0m\u001b[0;34m\u001b[0m\u001b[0m\n\u001b[0m\u001b[1;32m     21\u001b[0m     \u001b[0;32mfor\u001b[0m \u001b[0mfname\u001b[0m \u001b[0;32min\u001b[0m \u001b[0mfile_names\u001b[0m\u001b[0;34m:\u001b[0m\u001b[0;34m\u001b[0m\u001b[0m\n\u001b[1;32m     22\u001b[0m         \u001b[0mpotential_features\u001b[0m \u001b[0;34m=\u001b[0m \u001b[0;34m{\u001b[0m\u001b[0;34m}\u001b[0m\u001b[0;34m\u001b[0m\u001b[0m\n",
      "\u001b[0;32m/bt/home/kshi/workspace/process_commpass/src/select_feature_fields.pyc\u001b[0m in \u001b[0;36mget_descriptions\u001b[0;34m(desc_dir)\u001b[0m\n\u001b[1;32m      5\u001b[0m \u001b[0;34m\u001b[0m\u001b[0m\n\u001b[1;32m      6\u001b[0m \u001b[0;32mdef\u001b[0m \u001b[0mget_descriptions\u001b[0m\u001b[0;34m(\u001b[0m\u001b[0mdesc_dir\u001b[0m\u001b[0;34m)\u001b[0m\u001b[0;34m:\u001b[0m\u001b[0;34m\u001b[0m\u001b[0m\n\u001b[0;32m----> 7\u001b[0;31m     \u001b[0mfile_names\u001b[0m \u001b[0;34m=\u001b[0m \u001b[0mos\u001b[0m\u001b[0;34m.\u001b[0m\u001b[0mlistdir\u001b[0m\u001b[0;34m(\u001b[0m\u001b[0mdesc_dir\u001b[0m\u001b[0;34m)\u001b[0m\u001b[0;34m\u001b[0m\u001b[0m\n\u001b[0m\u001b[1;32m      8\u001b[0m     \u001b[0mdescriptions\u001b[0m \u001b[0;34m=\u001b[0m \u001b[0;34m{\u001b[0m\u001b[0;34m}\u001b[0m\u001b[0;34m\u001b[0m\u001b[0m\n\u001b[1;32m      9\u001b[0m     \u001b[0;32mfor\u001b[0m \u001b[0mfname\u001b[0m \u001b[0;32min\u001b[0m \u001b[0mfile_names\u001b[0m\u001b[0;34m:\u001b[0m\u001b[0;34m\u001b[0m\u001b[0m\n",
      "\u001b[0;31mOSError\u001b[0m: [Errno 2] No such file or directory: 'data/raw/clinical_data_tables/CoMMpass_IA9_FlatFiles_Dictionaries'"
     ],
     "output_type": "error"
    }
   ],
   "source": [
    "##What files are we searching through to build features?\n",
    "file_names = [\"stand_alone_ae\", \"per_patient_visit\", \"stand_alone_treatment_regimen\", 'stand_alone_emergency_dept', 'stand_alone_admissions', 'stand_alone_medhx', 'stand_alone_famhx', 'per_patient']\n",
    "##What strings invalidate a field as a feature?  Mostly correspond to meta-data or dates\n",
    "invalid_strings = [\"date\", \"day\", \"week\", \"time\", \"enr\", \"interval\", \"dose\", \"unit\", \"frequency\", \"ongoing\", \"route\", \"_was\", \"visit\", \"censor\", \"d_pt\", \"ic_\", \"bmt\", \"flag\", \"vj\", \"mmtx_therapy\", \"mmtx_type\", \"dictionary\"]\n",
    "##What date are we using as the cutoff for no longer baseline?\n",
    "baseline_cutoff = 0\n",
    "##What fraction of the feature's observations must be before treatment to treat it as a baseline feature?\n",
    "temporal_frac = 0.5\n",
    "\n",
    "select_feature_fields.main(file_names, invalid_strings, baseline_cutoff, temporal_frac, data_dir, param_dir, desc_dir)"
   ]
  },
  {
   "cell_type": "code",
   "execution_count": null,
   "metadata": {
    "collapsed": true
   },
   "outputs": [],
   "source": [
    "##Create tensor dir if it doesn't already exist\n",
    "import os\n",
    "if not os.path.exists(tensor_dir):\n",
    "    os.makedirs(tensor_dir)"
   ]
  },
  {
   "cell_type": "markdown",
   "metadata": {},
   "source": [
    "This builds 3 3-d tensors from the CoMMpass data: clinical, treatment and initial tensors.  The initial tensor has measurements that are exclusively or heavily measured at the baseline visit.  These do not appear in the clinical tensor.  The clinical tensor has all temporal clinical measurements.  The treatment tensor has binary indicators for treatments (it doesn't include treatment doses yet).  \n",
    "\n",
    "The data you can load from these files include:\n",
    "tensor: the data itself\n",
    "obs_tensor: indicates if marks observed features with a 1 and has zeros otherwise. This helps to differentiate between negative observations of a feature and missing values.  \n",
    "feature_names: names of features\n",
    "feature_types: whether the features are continuous, binary, or scale variables\n",
    "people: the patient identifiers.  These are in the same order across all three files."
   ]
  },
  {
   "cell_type": "code",
   "execution_count": null,
   "metadata": {
    "collapsed": true
   },
   "outputs": [],
   "source": [
    "##What's the min last visit number to include a person in the cohort?\n",
    "visit_cutoff = 1\n",
    "##What's the minimum date, i.e. where is time zero for the tensors?\n",
    "min_date = -180\n",
    "##Should we use the minimum date or set our own min date?\n",
    "calc_min_date = False\n",
    "##The minimum number of time to see a text value to count it as a feature\n",
    "min_occurrences = 50\n",
    "##Set debug to True to run with only 50 people and min_occurrences set to 5\n",
    "debug = False\n",
    "\n",
    "build_tensors.process_commpass(visit_cutoff, min_date, calc_min_date, min_occurrences, data_dir, tensor_dir, param_dir, debug=debug)"
   ]
  },
  {
   "cell_type": "markdown",
   "metadata": {},
   "source": [
    "This aggregates the features from the raw tensors into n month windows (this is a flag you can change) and puts everything before the start of treatment in the initial feature matrix.  It also binarizes quality of life questions (this is a flag you can change).  It then splits the dataset into train, test, validate with balanced numbers of patients who progress and patients who die across the splits.  It also normalizes the features in all three splits according to the distribution of the train features.  It also includes labels for time of first progression and time of death."
   ]
  },
  {
   "cell_type": "code",
   "execution_count": null,
   "metadata": {
    "collapsed": true
   },
   "outputs": [],
   "source": [
    "binarize_qol = True\n",
    "build_features_from_tensors.main(binarize_qol, tensor_dir, min_date, min_occurrences)"
   ]
  },
  {
   "cell_type": "code",
   "execution_count": null,
   "metadata": {
    "collapsed": true
   },
   "outputs": [],
   "source": [
    "if load_raw_tensors:\n",
    "    dataset = loadDataset.main(\"clinical\", tensor_dir)\n",
    "    clinical_tensor = dataset['tensor']\n",
    "    clinical_obs_tensor = dataset['obs_tensor']\n",
    "    clinical_feature_names = dataset['feature_names']\n",
    "    clinical_feature_types = dataset['feature_types']\n",
    "    people = dataset['people']\n",
    "\n",
    "    dataset = loadDataset.main(\"initial\", tensor_dir)\n",
    "    initial_tensor = dataset['tensor']\n",
    "    initial_feature_names = dataset['feature_names']\n",
    "    initial_feature_types = dataset['feature_types']\n",
    "    assert np.array_equal(dataset['people'], people)\n",
    "\n",
    "    dataset = loadDataset.main(\"treatment\", tensor_dir)\n",
    "    treatment_tensor = dataset['tensor']\n",
    "    treatment_obs_tensor = dataset['obs_tensor']\n",
    "    treatment_feature_names = dataset['feature_names']\n",
    "    treatment_feature_types = dataset['feature_types']\n",
    "    assert np.array_equal(dataset['people'], people)"
   ]
  },
  {
   "cell_type": "code",
   "execution_count": null,
   "metadata": {
    "collapsed": true
   },
   "outputs": [],
   "source": [
    "if load_aggregated_tensors:\n",
    "    dataset = loadDataset.main('mm_separate', tensor_dir)\n",
    "\n",
    "    ##Clinical data\n",
    "    mm_train_x = dataset['train_x']\n",
    "    mm_train_x_mask = dataset['train_x_mask']\n",
    "    mm_valid_x = dataset['valid_x']\n",
    "    mm_valid_x_mask = dataset['valid_x_mask']\n",
    "    mm_test_x = dataset['test_x']\n",
    "    mm_test_x_mask = dataset['test_x_mask']\n",
    "    mm_x_names = dataset['x_names']\n",
    "    mm_x_types = dataset['x_types']\n",
    "    print \"MM separate clinical train matrix shape: \" + str(mm_train_x.shape)\n",
    "\n",
    "    ##Treatments\n",
    "    mm_train_u = dataset['train_u']\n",
    "    mm_train_u_mask = dataset['train_u_mask']\n",
    "    mm_valid_u = dataset['valid_u']\n",
    "    mm_valid_u_mask = dataset['valid_u_mask']\n",
    "    mm_test_u = dataset['test_u']\n",
    "    mm_test_u_mask = dataset['test_u_mask']\n",
    "    mm_u_names = dataset['u_names']\n",
    "    mm_u_types = dataset['u_types']\n",
    "    print \"MM separate treatment train matrix shape: \" + str(mm_train_u.shape)\n",
    "\n",
    "    ##Initial data matrix\n",
    "    mm_train_init = dataset['train_init']\n",
    "    mm_valid_init = dataset['valid_init']\n",
    "    mm_test_init = dataset['test_init']\n",
    "    mm_init_names = dataset['init_names']\n",
    "    mm_init_types = dataset['init_types']\n",
    "    print \"MM separate initial train matrix shape: \" + str(mm_train_init.shape)\n",
    "\n",
    "    ##Labels\n",
    "    mm_train_y = dataset['train_y']\n",
    "    mm_valid_y = dataset['valid_y']\n",
    "    mm_test_y = dataset['test_y']\n",
    "    mm_y_names = dataset['y_names']"
   ]
  },
  {
   "cell_type": "code",
   "execution_count": null,
   "metadata": {
    "collapsed": true
   },
   "outputs": [],
   "source": [
    ""
   ]
  }
 ],
 "metadata": {
  "kernelspec": {
   "display_name": "Python 2",
   "language": "python",
   "name": "python2"
  },
  "language_info": {
   "codemirror_mode": {
    "name": "ipython",
    "version": 2.0
   },
   "file_extension": ".py",
   "mimetype": "text/x-python",
   "name": "python",
   "nbconvert_exporter": "python",
   "pygments_lexer": "ipython2",
   "version": "2.7.13"
  }
 },
 "nbformat": 4,
 "nbformat_minor": 0
}